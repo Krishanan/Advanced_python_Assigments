{
 "cells": [
  {
   "cell_type": "code",
   "execution_count": 1,
   "metadata": {},
   "outputs": [],
   "source": [
    "def make_shirt(size, text): # Function to create the shirt\n",
    "    \"\"\"Creating the function to describe the shirt\"\"\"\n",
    "    print(f\"\\nThe shirt size is, {size}\")\n",
    "    print(f\"\\nThe text of the shirt is, {text}\")"
   ]
  },
  {
   "cell_type": "code",
   "execution_count": 2,
   "metadata": {},
   "outputs": [
    {
     "name": "stdout",
     "output_type": "stream",
     "text": [
      "The shirt size is, 68\n",
      "The text of the shirt is, Krishnan\n"
     ]
    }
   ],
   "source": [
    "make_shirt('68','Krishnan')"
   ]
  },
  {
   "cell_type": "code",
   "execution_count": 3,
   "metadata": {},
   "outputs": [
    {
     "name": "stdout",
     "output_type": "stream",
     "text": [
      "The shirt size is, 40\n",
      "The text of the shirt is, Krishnan\n"
     ]
    }
   ],
   "source": [
    "make_shirt(text = \"Krishnan\", size = '40')"
   ]
  },
  {
   "cell_type": "code",
   "execution_count": 2,
   "metadata": {},
   "outputs": [],
   "source": [
    "def make_shirt(size, text = \"I love Python\"):\n",
    "    \"\"\"Modify the function to describe the shirt\"\"\"\n",
    "    if size == \"Large\" or size == \"Medium\":\n",
    "        print(f\"\\nThe shirt size is, {size}\")\n",
    "        print(f\"\\nThe text of the shirt is, {text}\")\n",
    "    else:\n",
    "        print(f\"\\nThe shirt size is, {size}\")\n",
    "        print(f\"\\nThe text of the shirt is, {text}\")"
   ]
  },
  {
   "cell_type": "code",
   "execution_count": 3,
   "metadata": {},
   "outputs": [
    {
     "name": "stdout",
     "output_type": "stream",
     "text": [
      "\n",
      "The shirt size is, Large\n",
      "\n",
      "The text of the shirt is, I love Python\n"
     ]
    }
   ],
   "source": [
    "make_shirt(\"Large\")"
   ]
  },
  {
   "cell_type": "code",
   "execution_count": 5,
   "metadata": {},
   "outputs": [
    {
     "name": "stdout",
     "output_type": "stream",
     "text": [
      "\n",
      "The shirt size is, Small\n",
      "\n",
      "The text of the shirt is, I love this small size shirt\n"
     ]
    }
   ],
   "source": [
    "make_shirt(\"Small\",\"I love this small size shirt\")"
   ]
  },
  {
   "cell_type": "code",
   "execution_count": null,
   "metadata": {},
   "outputs": [],
   "source": [
    "#Cities:"
   ]
  },
  {
   "cell_type": "code",
   "execution_count": 6,
   "metadata": {},
   "outputs": [],
   "source": [
    "def describe_city(city, Country = 'UK'):\n",
    "    \"\"\"Describe the city in the Country\"\"\"\n",
    "    print(f\"\\nThe given city is {city} in {Country}\")"
   ]
  },
  {
   "cell_type": "code",
   "execution_count": 7,
   "metadata": {},
   "outputs": [
    {
     "name": "stdout",
     "output_type": "stream",
     "text": [
      "\n",
      "The given city is Leeds in UK\n"
     ]
    }
   ],
   "source": [
    "describe_city(\"Leeds\")"
   ]
  },
  {
   "cell_type": "code",
   "execution_count": 8,
   "metadata": {},
   "outputs": [
    {
     "name": "stdout",
     "output_type": "stream",
     "text": [
      "\n",
      "The given city is London in UK\n"
     ]
    }
   ],
   "source": [
    "describe_city(\"London\")"
   ]
  },
  {
   "cell_type": "code",
   "execution_count": 9,
   "metadata": {},
   "outputs": [
    {
     "name": "stdout",
     "output_type": "stream",
     "text": [
      "\n",
      "The given city is Coimbatore in India\n"
     ]
    }
   ],
   "source": [
    "describe_city(\"Coimbatore\", \"India\")"
   ]
  },
  {
   "cell_type": "code",
   "execution_count": null,
   "metadata": {},
   "outputs": [],
   "source": []
  },
  {
   "cell_type": "code",
   "execution_count": null,
   "metadata": {},
   "outputs": [],
   "source": []
  },
  {
   "cell_type": "code",
   "execution_count": null,
   "metadata": {},
   "outputs": [],
   "source": []
  },
  {
   "cell_type": "code",
   "execution_count": null,
   "metadata": {},
   "outputs": [],
   "source": []
  }
 ],
 "metadata": {
  "kernelspec": {
   "display_name": "Python 3",
   "language": "python",
   "name": "python3"
  },
  "language_info": {
   "codemirror_mode": {
    "name": "ipython",
    "version": 3
   },
   "file_extension": ".py",
   "mimetype": "text/x-python",
   "name": "python",
   "nbconvert_exporter": "python",
   "pygments_lexer": "ipython3",
   "version": "3.7.6"
  }
 },
 "nbformat": 4,
 "nbformat_minor": 4
}
