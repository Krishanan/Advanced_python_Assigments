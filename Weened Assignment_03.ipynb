{
 "cells": [
  {
   "cell_type": "code",
   "execution_count": 3,
   "metadata": {},
   "outputs": [],
   "source": [
    "river = {\"Nile\" : \"Egypt\",\"Cauvery\" : \"India\",\"Themes\" : \"UK\"}"
   ]
  },
  {
   "cell_type": "code",
   "execution_count": 4,
   "metadata": {},
   "outputs": [],
   "source": [
    "river_items = river.items()"
   ]
  },
  {
   "cell_type": "code",
   "execution_count": null,
   "metadata": {},
   "outputs": [],
   "source": [
    "#Option 1 : Use a loop to print a sentence about each river, such as The Nile runs through Egypt."
   ]
  },
  {
   "cell_type": "code",
   "execution_count": 5,
   "metadata": {},
   "outputs": [
    {
     "name": "stdout",
     "output_type": "stream",
     "text": [
      "The Nile is running through Egypt\n",
      "The Cauvery is running through India\n",
      "The Themes is running through UK\n"
     ]
    }
   ],
   "source": [
    "for key,value in river_items:\n",
    "    print(f\"The {key} is running through {value}\")"
   ]
  },
  {
   "cell_type": "code",
   "execution_count": 6,
   "metadata": {},
   "outputs": [
    {
     "name": "stdout",
     "output_type": "stream",
     "text": [
      "The Nile is flowing though Egypt\n",
      "The Cauvery is flowing though India\n",
      "The Themes is flowing though UK\n"
     ]
    }
   ],
   "source": [
    "for key in river:\n",
    "    print(f\"The {key} is flowing though {river[key]}\")"
   ]
  },
  {
   "cell_type": "code",
   "execution_count": null,
   "metadata": {},
   "outputs": [],
   "source": []
  },
  {
   "cell_type": "code",
   "execution_count": null,
   "metadata": {},
   "outputs": [],
   "source": []
  },
  {
   "cell_type": "code",
   "execution_count": null,
   "metadata": {},
   "outputs": [],
   "source": [
    "#Option 2 : Use a loop to print the name of each river included in the dictionary."
   ]
  },
  {
   "cell_type": "code",
   "execution_count": 9,
   "metadata": {},
   "outputs": [
    {
     "name": "stdout",
     "output_type": "stream",
     "text": [
      " The name of the river is Nile\n",
      " The name of the river is Cauvery\n",
      " The name of the river is Themes\n"
     ]
    }
   ],
   "source": [
    "for key in river:\n",
    "    print(f\" The name of the river is {key}\")"
   ]
  },
  {
   "cell_type": "code",
   "execution_count": null,
   "metadata": {},
   "outputs": [],
   "source": [
    "#option 3 : Use a loop to print the name of each country included in the dictionary "
   ]
  },
  {
   "cell_type": "code",
   "execution_count": 11,
   "metadata": {},
   "outputs": [
    {
     "name": "stdout",
     "output_type": "stream",
     "text": [
      " The name of the country is Egypt\n",
      " The name of the country is India\n",
      " The name of the country is UK\n"
     ]
    }
   ],
   "source": [
    "for key in river:\n",
    "    print(f\" The name of the country is {river[key]}\")"
   ]
  },
  {
   "cell_type": "code",
   "execution_count": null,
   "metadata": {},
   "outputs": [],
   "source": [
    "#Statement 2"
   ]
  },
  {
   "cell_type": "code",
   "execution_count": 12,
   "metadata": {},
   "outputs": [],
   "source": [
    "favorite_places = {\"Priya\" : \"Beach\",\"Krishnan\" : \"Rasipuram\", \"Kadhu\" : \"Coimbatore\"}"
   ]
  },
  {
   "cell_type": "code",
   "execution_count": 13,
   "metadata": {},
   "outputs": [],
   "source": [
    "Place_items =  favorite_places.items()"
   ]
  },
  {
   "cell_type": "code",
   "execution_count": 15,
   "metadata": {},
   "outputs": [
    {
     "name": "stdout",
     "output_type": "stream",
     "text": [
      "Priya -> Beach\n",
      "Krishnan -> Rasipuram\n",
      "Kadhu -> Coimbatore\n"
     ]
    }
   ],
   "source": [
    "for key in favorite_places:\n",
    "    print(key, \"->\",favorite_places[key])"
   ]
  },
  {
   "cell_type": "code",
   "execution_count": 16,
   "metadata": {},
   "outputs": [
    {
     "name": "stdout",
     "output_type": "stream",
     "text": [
      "Priya's favourite place is Beach\n",
      "Krishnan's favourite place is Rasipuram\n",
      "Kadhu's favourite place is Coimbatore\n"
     ]
    }
   ],
   "source": [
    "for key in favorite_places:\n",
    "    print(f\"{key}'s favourite place is {favorite_places[key]}\")"
   ]
  },
  {
   "cell_type": "code",
   "execution_count": null,
   "metadata": {},
   "outputs": [],
   "source": []
  },
  {
   "cell_type": "code",
   "execution_count": null,
   "metadata": {},
   "outputs": [],
   "source": []
  }
 ],
 "metadata": {
  "kernelspec": {
   "display_name": "Python 3",
   "language": "python",
   "name": "python3"
  },
  "language_info": {
   "codemirror_mode": {
    "name": "ipython",
    "version": 3
   },
   "file_extension": ".py",
   "mimetype": "text/x-python",
   "name": "python",
   "nbconvert_exporter": "python",
   "pygments_lexer": "ipython3",
   "version": "3.7.6"
  }
 },
 "nbformat": 4,
 "nbformat_minor": 4
}
